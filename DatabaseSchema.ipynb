{
 "cells": [
  {
   "cell_type": "code",
   "execution_count": 1,
   "metadata": {},
   "outputs": [],
   "source": [
    "#Importing the libraries\n",
    "import pandas as pd\n",
    "import numpy as np"
   ]
  },
  {
   "cell_type": "code",
   "execution_count": 38,
   "metadata": {},
   "outputs": [
    {
     "name": "stderr",
     "output_type": "stream",
     "text": [
      "C:\\Users\\ayushga\\Anaconda3\\lib\\site-packages\\IPython\\core\\interactiveshell.py:3071: DtypeWarning: Columns (1,2,18) have mixed types.Specify dtype option on import or set low_memory=False.\n",
      "  has_raised = await self.run_ast_nodes(code_ast.body, cell_name,\n"
     ]
    }
   ],
   "source": [
    "#Reading the csv file\n",
    "df=pd.read_csv('solar.csv',sep=';')\n",
    "#df.drop('State',inplace=True,axis=1)"
   ]
  },
  {
   "cell_type": "code",
   "execution_count": 39,
   "metadata": {
    "scrolled": true
   },
   "outputs": [
    {
     "name": "stdout",
     "output_type": "stream",
     "text": [
      "Index(['Reporting Period', 'Project Number', 'Legacy Project Number', 'City',\n",
      "       'County', 'State', 'Zip Code', 'Sector', 'Program Type', 'Solicitation',\n",
      "       'Electric Utility', 'Purchase Type', 'Date Application Received',\n",
      "       'Date Completed', 'Project Status', 'Contractor',\n",
      "       'Primary Inverter Manufacturer', 'Primary Inverter Model Number',\n",
      "       'Total Inverter Quantity', 'Primary PV Module Manufacturer',\n",
      "       'PV Module Model Number', 'Total PV Module Quantity', 'Project Cost',\n",
      "       '$Incentive', 'Total Nameplate kW DC', 'Expected KWh Annual Production',\n",
      "       'Remote Net Metering', 'Affordable Solar',\n",
      "       'Community Distributed Generation',\n",
      "       'Green Jobs Green New York Participant', 'Location 1'],\n",
      "      dtype='object')\n"
     ]
    }
   ],
   "source": [
    "#Columns of DataFrame\n",
    "print(df.columns)"
   ]
  },
  {
   "cell_type": "code",
   "execution_count": 2,
   "metadata": {},
   "outputs": [],
   "source": [
    "### Utility Functions\n",
    "from IPython.display import display, HTML\n",
    "import pandas as pd\n",
    "import sqlite3\n",
    "from sqlite3 import Error\n",
    "\n",
    "def create_connection(db_file, delete_db=False):\n",
    "    import os\n",
    "    if delete_db and os.path.exists(db_file):\n",
    "        os.remove(db_file)\n",
    "\n",
    "    conn = None\n",
    "    try:\n",
    "        conn = sqlite3.connect(db_file)\n",
    "        conn.execute(\"PRAGMA foreign_keys = 1\")\n",
    "    except Error as e:\n",
    "        print(e)\n",
    "\n",
    "    return conn\n",
    "\n",
    "\n",
    "def create_table(conn, create_table_sql, drop_table_name=None):\n",
    "    \n",
    "    if drop_table_name: # You can optionally pass drop_table_name to drop the table. \n",
    "        try:\n",
    "            c = conn.cursor()\n",
    "            c.execute(\"\"\"DROP TABLE IF EXISTS %s\"\"\" % (drop_table_name))\n",
    "        except Error as e:\n",
    "            print(e)\n",
    "    \n",
    "    try:\n",
    "        c = conn.cursor()\n",
    "        c.execute(create_table_sql)\n",
    "    except Error as e:\n",
    "        print(e)\n",
    "        \n",
    "def execute_sql_statement(sql_statement, conn):\n",
    "    cur = conn.cursor()\n",
    "    cur.execute(sql_statement)\n",
    "\n",
    "    rows = cur.fetchall()\n",
    "\n",
    "    return rows"
   ]
  },
  {
   "cell_type": "code",
   "execution_count": 3,
   "metadata": {},
   "outputs": [],
   "source": [
    "# Delete old database file\n",
    "\n",
    "normalized_database_filename = 'normalized.db'\n",
    "conn = create_connection(normalized_database_filename, delete_db=True)"
   ]
  },
  {
   "cell_type": "code",
   "execution_count": 4,
   "metadata": {},
   "outputs": [],
   "source": [
    "ll=[]\n",
    "def step1_create_project_table(data_filename, normalized_database_filename):\n",
    "    with open(data_filename) as file:\n",
    "        c=0\n",
    "        l1=[]\n",
    "        lis=[]\n",
    "        l2=[]\n",
    "        for row in file:\n",
    "            if c==0:\n",
    "                c+=1\n",
    "                continue\n",
    "            row = row.strip(\"\\n\")\n",
    "            l=row.split(';')\n",
    "            if c%2!=0:\n",
    "                ll.append((l[1],l[6],l[7],l[8],l[9],l[10],l[13],l[14]))\n",
    "            c+=1\n",
    "        c=1\n",
    "        lis=[]\n",
    "        for ele in sorted(ll):\n",
    "            lis.append(ele)\n",
    "        #lis.sort(key=lambda x:x[1]+x[2])\n",
    "        conn_norm=create_connection(normalized_database_filename)\n",
    "        create_table(conn_norm,\"create table Project(ProjectID TEXT NOT NULL PRIMARY KEY,Sector TEXT, Program Type TEXT, Solicitation TEXT, Electric Utility TEXT, Purchase Type TEXT, Project Status TEXT,Contractor TEXT,UNIQUE(ProjectID))\",\"Project\")\n",
    "        conn_norm.commit()\n",
    "        cur = conn_norm.cursor()\n",
    "        cur.executemany(\"INSERT INTO Project VALUES (?, ?, ?, ?, ?, ?, ?, ?)\", lis)\n",
    "        conn_norm.commit()"
   ]
  },
  {
   "cell_type": "code",
   "execution_count": 5,
   "metadata": {},
   "outputs": [
    {
     "name": "stdout",
     "output_type": "stream",
     "text": [
      "   ProjectID Sector          Program                         Solicitation  \\\n",
      "0  0107456-1  13660  Non-Residential  Commercial/Industrial (Competitive)   \n",
      "1  028807A-1  11215  Non-Residential  Commercial/Industrial (Competitive)   \n",
      "2  031335A-1  12550  Non-Residential  Commercial/Industrial (Competitive)   \n",
      "3  033492A-1  13053  Non-Residential  Commercial/Industrial (Competitive)   \n",
      "4       1000  11205      Residential         Residential/Small Commercial   \n",
      "\n",
      "    Electric                         Purchase     Project Contractor  \n",
      "0   PON 2956                    National Grid  09/27/2017   Complete  \n",
      "1   PON 2484              Consolidated Edison  12/20/2013   Complete  \n",
      "2  PON 2589B  Central Hudson Gas and Electric  12/03/2013   Complete  \n",
      "3  PON 2589B             NYS Electric and Gas  06/17/2015   Complete  \n",
      "4    PON 716              Consolidated Edison  10/29/2007   Complete  \n"
     ]
    }
   ],
   "source": [
    "#Verifying the table creation & insertion of Project\n",
    "normalized_database_filename = 'normalized.db'\n",
    "data_filename = 'solar.csv'\n",
    "step1_create_project_table(data_filename, normalized_database_filename)\n",
    "conn = create_connection(normalized_database_filename)\n",
    "cur = conn.cursor()\n",
    "df = pd.read_sql_query(\"\"\"SELECT * FROM Project\"\"\", conn)\n",
    "print(df.head())"
   ]
  },
  {
   "cell_type": "code",
   "execution_count": 35,
   "metadata": {},
   "outputs": [],
   "source": [
    "ll=[]\n",
    "def step2_create_project_location_table(data_filename, normalized_database_filename):\n",
    "    with open(data_filename) as file:\n",
    "        c=0\n",
    "        k=1\n",
    "        l1=[]\n",
    "        lis=[]\n",
    "        l2=[]\n",
    "        for row in file:\n",
    "            if c==0:\n",
    "                c+=1\n",
    "                continue\n",
    "            row = row.strip(\"\\n\")\n",
    "            l=row.split(';')\n",
    "            if c%2!=0:\n",
    "                l[30]=l[30].strip('\"')\n",
    "                ll.append((k,l[6],l[1],l[3],l[4]))\n",
    "                k+=1\n",
    "            c+=1\n",
    "        c=1\n",
    "        lis=[]\n",
    "        for ele in ll:\n",
    "            lis.append(ele)\n",
    "            if c<10:\n",
    "                print(ele)\n",
    "            c+=1\n",
    "        #lis.sort(key=lambda x:x[1]+x[2])\n",
    "        conn_norm=create_connection(normalized_database_filename)\n",
    "        create_table(conn_norm,\"create table ProjectLocation(ProjectLocationID INTEGER NOT NULL PRIMARY KEY, ZipCode TEXT NOT NULL, ProjectID TEXT NOT NULL,City TEXT,County TEXT, FOREIGN KEY(ProjectID) REFERENCES Project(ProjectID), UNIQUE(ProjectLocationID))\",\"ProjectLocation\")\n",
    "        conn_norm.commit()\n",
    "        cur = conn_norm.cursor()\n",
    "        cur.executemany(\"INSERT INTO ProjectLocation VALUES (?, ?, ?, ?, ?)\", lis)\n",
    "        conn_norm.commit()"
   ]
  },
  {
   "cell_type": "code",
   "execution_count": 36,
   "metadata": {},
   "outputs": [
    {
     "name": "stdout",
     "output_type": "stream",
     "text": [
      "(1, '11763', '2011-189637-SLPR', 'Medford', 'Suffolk')\n",
      "(2, '11933', '2013-530718-Sola', 'Calverton', 'Suffolk')\n",
      "(3, '11788', '2014-646148-Sola', 'Hauppauge', 'Suffolk')\n",
      "(4, '12866', '31307-1', 'Saratoga Springs', 'Saratoga')\n",
      "(5, '14886', '431', 'Trumansburg', 'Tompkins')\n",
      "(6, '12054', '793', 'Delmar', 'Albany')\n",
      "(7, '14727', '1182', 'Cuba', 'Allegany')\n",
      "(8, '10580', '1224', 'Rye', 'Westchester')\n",
      "(9, '14420', '1727', 'Brockport', 'Monroe')\n",
      "   ProjectLocationID ZipCode         ProjectID              City    County\n",
      "0                  1   11763  2011-189637-SLPR           Medford   Suffolk\n",
      "1                  2   11933  2013-530718-Sola         Calverton   Suffolk\n",
      "2                  3   11788  2014-646148-Sola         Hauppauge   Suffolk\n",
      "3                  4   12866           31307-1  Saratoga Springs  Saratoga\n",
      "4                  5   14886               431       Trumansburg  Tompkins\n"
     ]
    }
   ],
   "source": [
    "#Verifying the table creation & insertion of ProjectLocation\n",
    "normalized_database_filename = 'normalized.db'\n",
    "data_filename = 'solar.csv'\n",
    "step2_create_project_location_table(data_filename, normalized_database_filename)\n",
    "conn = create_connection(normalized_database_filename)\n",
    "cur = conn.cursor()\n",
    "df = pd.read_sql_query(\"\"\"SELECT * FROM ProjectLocation\"\"\", conn)\n",
    "print(df.head())"
   ]
  },
  {
   "cell_type": "code",
   "execution_count": 41,
   "metadata": {},
   "outputs": [],
   "source": [
    "ll=[]\n",
    "def step3_create_inverter_details_table(data_filename, normalized_database_filename):\n",
    "    with open(data_filename) as file:\n",
    "        c=0\n",
    "        k=1\n",
    "        l1=[]\n",
    "        lis=[]\n",
    "        l2=[]\n",
    "        for row in file:\n",
    "            if c==0:\n",
    "                c+=1\n",
    "                continue\n",
    "            row = row.strip(\"\\n\")\n",
    "            l=row.split(';')\n",
    "            if c%2!=0:\n",
    "                l[30]=l[30].strip('\"')\n",
    "                ll.append((k,l[1],l[16],l[17],l[18]))\n",
    "                k+=1\n",
    "            c+=1\n",
    "        c=1\n",
    "        lis=[]\n",
    "        for ele in ll:\n",
    "            lis.append(ele)\n",
    "        conn_norm=create_connection(normalized_database_filename)\n",
    "        create_table(conn_norm,\"create table InverterDetails(InverterDetailsID INTEGER NOT NULL PRIMARY KEY, ProjectID TEXT NOT NULL, PriInvetMft TEXT, PriInvetModNo TEXT,TotalInvtQt TEXT, FOREIGN KEY(ProjectID) REFERENCES Project(ProjectID), UNIQUE(InverterDetailsID))\",\"InverterDetails\")\n",
    "        conn_norm.commit()\n",
    "        cur = conn_norm.cursor()\n",
    "        cur.executemany(\"INSERT INTO InverterDetails VALUES (?, ?, ?, ?, ?)\", lis)\n",
    "        conn_norm.commit()"
   ]
  },
  {
   "cell_type": "code",
   "execution_count": 42,
   "metadata": {},
   "outputs": [
    {
     "name": "stdout",
     "output_type": "stream",
     "text": [
      "   InverterDetailsID         ProjectID  PriInvetMft PriInvetModNo TotalInvtQt\n",
      "0                  1  2011-189637-SLPR                                      0\n",
      "1                  2  2013-530718-Sola    Power-One                         2\n",
      "2                  3  2014-646148-Sola    SolarEdge                         1\n",
      "3                  4           31307-1                                       \n",
      "4                  5               431  Fronius USA       IG 2000           1\n"
     ]
    }
   ],
   "source": [
    "#Verifying the table creation & insertion of InverterDetails\n",
    "normalized_database_filename = 'normalized.db'\n",
    "data_filename = 'solar.csv'\n",
    "step3_create_inverter_details_table(data_filename, normalized_database_filename)\n",
    "conn = create_connection(normalized_database_filename)\n",
    "cur = conn.cursor()\n",
    "df = pd.read_sql_query(\"\"\"SELECT * FROM InverterDetails\"\"\", conn)\n",
    "print(df.head())"
   ]
  },
  {
   "cell_type": "code",
   "execution_count": 43,
   "metadata": {},
   "outputs": [],
   "source": [
    "ll=[]\n",
    "def step4_create_pvmodule_details_table(data_filename, normalized_database_filename):\n",
    "    with open(data_filename) as file:\n",
    "        c=0\n",
    "        k=1\n",
    "        l1=[]\n",
    "        lis=[]\n",
    "        l2=[]\n",
    "        for row in file:\n",
    "            if c==0:\n",
    "                c+=1\n",
    "                continue\n",
    "            row = row.strip(\"\\n\")\n",
    "            l=row.split(';')\n",
    "            if c%2!=0:\n",
    "                l[30]=l[30].strip('\"')\n",
    "                ll.append((k,l[1],l[16],l[17],l[18]))\n",
    "                k+=1\n",
    "            c+=1\n",
    "        c=1\n",
    "        lis=[]\n",
    "        for ele in ll:\n",
    "            lis.append(ele)\n",
    "        conn_norm=create_connection(normalized_database_filename)\n",
    "        create_table(conn_norm,\"create table PVModuleDetails(PVModuleDetailsID INTEGER NOT NULL PRIMARY KEY, ProjectID TEXT NOT NULL, PriPVMft TEXT, PriPVModNo TEXT,TotalPVQt TEXT, FOREIGN KEY(ProjectID) REFERENCES Project(ProjectID), UNIQUE(PVModuleDetailsID))\",\"PVModuleDetails\")\n",
    "        conn_norm.commit()\n",
    "        cur = conn_norm.cursor()\n",
    "        cur.executemany(\"INSERT INTO PVModuleDetails VALUES (?, ?, ?, ?, ?)\", lis)\n",
    "        conn_norm.commit()"
   ]
  },
  {
   "cell_type": "code",
   "execution_count": 44,
   "metadata": {},
   "outputs": [
    {
     "name": "stdout",
     "output_type": "stream",
     "text": [
      "   PVModuleDetailsID         ProjectID     PriPVMft PriPVModNo TotalPVQt\n",
      "0                  1  2011-189637-SLPR                                 0\n",
      "1                  2  2013-530718-Sola    Power-One                    2\n",
      "2                  3  2014-646148-Sola    SolarEdge                    1\n",
      "3                  4           31307-1                                  \n",
      "4                  5               431  Fronius USA    IG 2000         1\n"
     ]
    }
   ],
   "source": [
    "#Verifying the table creation & insertion of PVModuleDetails\n",
    "normalized_database_filename = 'normalized.db'\n",
    "data_filename = 'solar.csv'\n",
    "step4_create_pvmodule_details_table(data_filename, normalized_database_filename)\n",
    "conn = create_connection(normalized_database_filename)\n",
    "cur = conn.cursor()\n",
    "df = pd.read_sql_query(\"\"\"SELECT * FROM PVModuleDetails\"\"\", conn)\n",
    "print(df.head())"
   ]
  },
  {
   "cell_type": "code",
   "execution_count": 47,
   "metadata": {},
   "outputs": [],
   "source": [
    "ll=[]\n",
    "def step5_create_project_timeline_table(data_filename, normalized_database_filename):\n",
    "    with open(data_filename) as file:\n",
    "        c=0\n",
    "        k=1\n",
    "        l1=[]\n",
    "        lis=[]\n",
    "        l2=[]\n",
    "        for row in file:\n",
    "            if c==0:\n",
    "                c+=1\n",
    "                continue\n",
    "            row = row.strip(\"\\n\")\n",
    "            l=row.split(';')\n",
    "            if c%2!=0:\n",
    "                l[30]=l[30].strip('\"')\n",
    "                ll.append((k,l[1],l[11],l[12]))\n",
    "                k+=1\n",
    "            c+=1\n",
    "        c=1\n",
    "        lis=[]\n",
    "        for ele in ll:\n",
    "            lis.append(ele)\n",
    "        conn_norm=create_connection(normalized_database_filename)\n",
    "        create_table(conn_norm,\"\"\"create table ProjectTimeline(ProjectTimelineID INTEGER NOT NULL PRIMARY KEY, ProjectID \n",
    "        TEXT NOT NULL, DtAppReceived TEXT, DtCompleted TEXT,\n",
    "        FOREIGN KEY(ProjectID) REFERENCES Project(ProjectID), UNIQUE(ProjectTimelineID))\"\"\",\"ProjectTimeline\")\n",
    "        conn_norm.commit()\n",
    "        cur = conn_norm.cursor()\n",
    "        cur.executemany(\"INSERT INTO ProjectTimeline VALUES (?, ?, ?, ?)\", lis)\n",
    "        conn_norm.commit()"
   ]
  },
  {
   "cell_type": "code",
   "execution_count": 48,
   "metadata": {},
   "outputs": [
    {
     "name": "stdout",
     "output_type": "stream",
     "text": [
      "   ProjectTimelineID         ProjectID DtAppReceived DtCompleted\n",
      "0                  1  2011-189637-SLPR      Purchase  10/02/2008\n",
      "1                  2  2013-530718-Sola      Purchase  03/01/2013\n",
      "2                  3  2014-646148-Sola      Purchase  04/03/2014\n",
      "3                  4           31307-1      Purchase  02/22/2013\n",
      "4                  5               431                10/30/2007\n"
     ]
    }
   ],
   "source": [
    "#Verifying the table creation & insertion of ProjectTimeline\n",
    "normalized_database_filename = 'normalized.db'\n",
    "data_filename = 'solar.csv'\n",
    "step5_create_project_timeline_table(data_filename, normalized_database_filename)\n",
    "conn = create_connection(normalized_database_filename)\n",
    "cur = conn.cursor()\n",
    "df = pd.read_sql_query(\"\"\"SELECT * FROM ProjectTimeline\"\"\", conn)\n",
    "print(df.head())"
   ]
  },
  {
   "cell_type": "code",
   "execution_count": 53,
   "metadata": {},
   "outputs": [],
   "source": [
    "ll=[]\n",
    "def step6_create_project_cost_table(data_filename, normalized_database_filename):\n",
    "    with open(data_filename) as file:\n",
    "        c=0\n",
    "        k=1\n",
    "        l1=[]\n",
    "        lis=[]\n",
    "        l2=[]\n",
    "        for row in file:\n",
    "            if c==0:\n",
    "                c+=1\n",
    "                continue\n",
    "            row = row.strip(\"\\n\")\n",
    "            l=row.split(';')\n",
    "            if c%2!=0:\n",
    "                l[30]=l[30].strip('\"')\n",
    "                ll.append((k,l[1],l[22],l[23],l[26],l[27],l[29]))\n",
    "                k+=1\n",
    "            c+=1\n",
    "        c=1\n",
    "        lis=[]\n",
    "        for ele in ll:\n",
    "            lis.append(ele)\n",
    "        conn_norm=create_connection(normalized_database_filename)\n",
    "        create_table(conn_norm,\"\"\"create table ProjectCost(ProjectCostID INTEGER NOT NULL PRIMARY KEY, ProjectID \n",
    "        TEXT NOT NULL, ProjectCost TEXT, Incentive TEXT, RemNetMet TEXT, AffSolar TEXT, GreenCertified TEXT,\n",
    "        FOREIGN KEY(ProjectID) REFERENCES Project(ProjectID), UNIQUE(ProjectCostID))\"\"\",\"ProjectCost\")\n",
    "        conn_norm.commit()\n",
    "        cur = conn_norm.cursor()\n",
    "        cur.executemany(\"INSERT INTO ProjectCost VALUES (?, ?, ?, ?, ?, ?, ?)\", lis)\n",
    "        conn_norm.commit()"
   ]
  },
  {
   "cell_type": "code",
   "execution_count": 54,
   "metadata": {},
   "outputs": [
    {
     "name": "stdout",
     "output_type": "stream",
     "text": [
      "   ProjectCostID         ProjectID   ProjectCost   Incentive RemNetMet  \\\n",
      "0              1  2011-189637-SLPR     11,000.00    7,560.00             \n",
      "1              2  2013-530718-Sola     49,088.00   15,000.00             \n",
      "2              3  2014-646148-Sola     37,950.00    5,504.63             \n",
      "3              4           31307-1  1,825,000.00  570,719.00             \n",
      "4              5               431     21,100.00    8,400.00             \n",
      "\n",
      "  AffSolar GreenCertified  \n",
      "0       No             No  \n",
      "1       No             No  \n",
      "2       No             No  \n",
      "3       No             No  \n",
      "4       No             No  \n"
     ]
    }
   ],
   "source": [
    "#Verifying the table creation & insertion of ProjectCost\n",
    "normalized_database_filename = 'normalized.db'\n",
    "data_filename = 'solar.csv'\n",
    "step6_create_project_cost_table(data_filename, normalized_database_filename)\n",
    "conn = create_connection(normalized_database_filename)\n",
    "cur = conn.cursor()\n",
    "df = pd.read_sql_query(\"\"\"SELECT * FROM ProjectCost\"\"\", conn)\n",
    "print(df.head())"
   ]
  },
  {
   "cell_type": "code",
   "execution_count": 58,
   "metadata": {},
   "outputs": [],
   "source": [
    "ll=[]\n",
    "def step7_create_project_prod_table(data_filename, normalized_database_filename):\n",
    "    with open(data_filename) as file:\n",
    "        c=0\n",
    "        k=1\n",
    "        l1=[]\n",
    "        lis=[]\n",
    "        l2=[]\n",
    "        for row in file:\n",
    "            if c==0:\n",
    "                c+=1\n",
    "                continue\n",
    "            row = row.strip(\"\\n\")\n",
    "            l=row.split(';')\n",
    "            if c%2!=0:\n",
    "                l[30]=l[30].strip('\"')\n",
    "                ll.append((k,l[1],l[24],l[25],l[28]))\n",
    "                k+=1\n",
    "            c+=1\n",
    "        c=1\n",
    "        lis=[]\n",
    "        for ele in ll:\n",
    "            lis.append(ele)\n",
    "        conn_norm=create_connection(normalized_database_filename)\n",
    "        create_table(conn_norm,\"\"\"create table ProjectProd(ProjectProdID INTEGER NOT NULL PRIMARY KEY, ProjectID \n",
    "        TEXT NOT NULL, TotNamePlateKWDC TEXT, ExpectKWhAnnProd TEXT, CommDistGener TEXT,\n",
    "        FOREIGN KEY(ProjectID) REFERENCES Project(ProjectID), UNIQUE(ProjectProdID))\"\"\",\"ProjectProd\")\n",
    "        conn_norm.commit()\n",
    "        cur = conn_norm.cursor()\n",
    "        cur.executemany(\"INSERT INTO ProjectProd VALUES (?, ?, ?, ?, ?)\", lis)\n",
    "        conn_norm.commit()"
   ]
  },
  {
   "cell_type": "code",
   "execution_count": 59,
   "metadata": {},
   "outputs": [
    {
     "name": "stdout",
     "output_type": "stream",
     "text": [
      "   ProjectProdID         ProjectID TotNamePlateKWDC ExpectKWhAnnProd  \\\n",
      "0              1  2011-189637-SLPR             2.16         2,535.00   \n",
      "1              2  2013-530718-Sola            10.40        12,208.00   \n",
      "2              3  2014-646148-Sola            12.65        14,849.00   \n",
      "3              4           31307-1           598.26       576,483.00   \n",
      "4              5               431             2.10         2,428.00   \n",
      "\n",
      "  CommDistGener  \n",
      "0            No  \n",
      "1            No  \n",
      "2            No  \n",
      "3            No  \n",
      "4            No  \n"
     ]
    }
   ],
   "source": [
    "#Verifying the table creation & insertion of ProjectProd\n",
    "normalized_database_filename = 'normalized.db'\n",
    "data_filename = 'solar.csv'\n",
    "step7_create_project_prod_table(data_filename, normalized_database_filename)\n",
    "conn = create_connection(normalized_database_filename)\n",
    "cur = conn.cursor()\n",
    "df = pd.read_sql_query(\"\"\"SELECT * FROM ProjectProd\"\"\", conn)\n",
    "print(df.head())"
   ]
  }
 ],
 "metadata": {
  "kernelspec": {
   "display_name": "Python 3",
   "language": "python",
   "name": "python3"
  },
  "language_info": {
   "codemirror_mode": {
    "name": "ipython",
    "version": 3
   },
   "file_extension": ".py",
   "mimetype": "text/x-python",
   "name": "python",
   "nbconvert_exporter": "python",
   "pygments_lexer": "ipython3",
   "version": "3.8.3"
  }
 },
 "nbformat": 4,
 "nbformat_minor": 4
}
